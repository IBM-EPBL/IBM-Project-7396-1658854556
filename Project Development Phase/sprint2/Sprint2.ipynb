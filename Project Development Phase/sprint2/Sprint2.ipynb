{
  "nbformat": 4,
  "nbformat_minor": 0,
  "metadata": {
    "colab": {
      "provenance": []
    },
    "kernelspec": {
      "name": "python3",
      "display_name": "Python 3"
    },
    "language_info": {
      "name": "python"
    }
  },
  "cells": [
    {
      "cell_type": "code",
      "execution_count": 16,
      "metadata": {
        "id": "189yIG8DI_Kj"
      },
      "outputs": [],
      "source": [
        "import numpy as np\n",
        "#used for numerical analysis\n",
        "import tensorflow #open source used for both ML and DL for computation\n",
        "from tensorflow.keras.models import Sequential #it is a plain stack of layers\n",
        "from tensorflow.keras import layers # a layer consists of a tensor-in tensor-out computation function\n",
        "#Dense layer is the regular deeply connected neural network layer\n",
        "from tensorflow.keras.layers import Dense, Flatten \n",
        "#Flatten-used fot flattering the input or change the dimension\n",
        "from tensorflow.keras.layers import Conv2D, MaxPooling2D, Dropout #convolutional layer\n",
        "#MaxPooling2D-for downsampling the image\n",
        "from keras.preprocessing import image"
      ]
    },
    {
      "cell_type": "code",
      "source": [
        "import tensorflow as tf\n",
        "\n",
        "from tensorflow.keras import datasets, layers, models\n",
        "import matplotlib.pyplot as plt\n",
        "\n",
        "(train_images, train_labels), (test_images, test_labels) = datasets.cifar10.load_data()"
      ],
      "metadata": {
        "id": "4UoRSJ9BJDvS"
      },
      "execution_count": 7,
      "outputs": []
    },
    {
      "cell_type": "code",
      "source": [
        "train_images, test_images = train_images / 255.0, test_images / 255.0"
      ],
      "metadata": {
        "id": "v5NiU2PXJE4G"
      },
      "execution_count": 8,
      "outputs": []
    },
    {
      "cell_type": "code",
      "source": [
        "model = models.Sequential()\n",
        "model.add(layers.Conv2D(32, (3, 3), activation='relu', input_shape=(32, 32, 3)))\n",
        "model.add(layers.MaxPooling2D((2, 2)))\n",
        "model.add(layers.Conv2D(64, (3, 3), activation='relu'))\n",
        "model.add(layers.MaxPooling2D((2, 2)))\n",
        "model.add(layers.Conv2D(64, (3, 3), activation='relu'))\n",
        "model.add(layers.Flatten())\n",
        "model.add(layers.Dense(64, activation='relu'))\n",
        "model.add(layers.Dense(10))"
      ],
      "metadata": {
        "id": "xV0sXyifJHfv"
      },
      "execution_count": 9,
      "outputs": []
    },
    {
      "cell_type": "code",
      "source": [
        "model.summary()"
      ],
      "metadata": {
        "colab": {
          "base_uri": "https://localhost:8080/"
        },
        "id": "wS9kZsrjJKR5",
        "outputId": "b8f328b5-17e7-4c90-fa0b-709c6752f578"
      },
      "execution_count": 10,
      "outputs": [
        {
          "output_type": "stream",
          "name": "stdout",
          "text": [
            "Model: \"sequential_1\"\n",
            "_________________________________________________________________\n",
            " Layer (type)                Output Shape              Param #   \n",
            "=================================================================\n",
            " conv2d_3 (Conv2D)           (None, 30, 30, 32)        896       \n",
            "                                                                 \n",
            " max_pooling2d_2 (MaxPooling  (None, 15, 15, 32)       0         \n",
            " 2D)                                                             \n",
            "                                                                 \n",
            " conv2d_4 (Conv2D)           (None, 13, 13, 64)        18496     \n",
            "                                                                 \n",
            " max_pooling2d_3 (MaxPooling  (None, 6, 6, 64)         0         \n",
            " 2D)                                                             \n",
            "                                                                 \n",
            " conv2d_5 (Conv2D)           (None, 4, 4, 64)          36928     \n",
            "                                                                 \n",
            " flatten_1 (Flatten)         (None, 1024)              0         \n",
            "                                                                 \n",
            " dense_2 (Dense)             (None, 64)                65600     \n",
            "                                                                 \n",
            " dense_3 (Dense)             (None, 10)                650       \n",
            "                                                                 \n",
            "=================================================================\n",
            "Total params: 122,570\n",
            "Trainable params: 122,570\n",
            "Non-trainable params: 0\n",
            "_________________________________________________________________\n"
          ]
        }
      ]
    },
    {
      "cell_type": "code",
      "source": [
        "model.compile(optimizer='adam',\n",
        "              loss=tf.keras.losses.SparseCategoricalCrossentropy(from_logits=True),\n",
        "              metrics=['accuracy'])\n",
        "#Fitting the model\n",
        "history = model.fit(train_images, train_labels, epochs=10, \n",
        "                    validation_data=(test_images, test_labels))"
      ],
      "metadata": {
        "colab": {
          "base_uri": "https://localhost:8080/"
        },
        "id": "IypfTzylJVlt",
        "outputId": "4129505c-c9e2-48b7-fc79-0ae8e7eb33e5"
      },
      "execution_count": 11,
      "outputs": [
        {
          "output_type": "stream",
          "name": "stdout",
          "text": [
            "Epoch 1/10\n",
            "1563/1563 [==============================] - 88s 56ms/step - loss: 1.5074 - accuracy: 0.4517 - val_loss: 1.2422 - val_accuracy: 0.5570\n",
            "Epoch 2/10\n",
            "1563/1563 [==============================] - 83s 53ms/step - loss: 1.1313 - accuracy: 0.6006 - val_loss: 1.0652 - val_accuracy: 0.6325\n",
            "Epoch 3/10\n",
            "1563/1563 [==============================] - 80s 51ms/step - loss: 0.9685 - accuracy: 0.6619 - val_loss: 0.9178 - val_accuracy: 0.6796\n",
            "Epoch 4/10\n",
            "1563/1563 [==============================] - 81s 52ms/step - loss: 0.8659 - accuracy: 0.6978 - val_loss: 0.9256 - val_accuracy: 0.6742\n",
            "Epoch 5/10\n",
            "1563/1563 [==============================] - 80s 51ms/step - loss: 0.7973 - accuracy: 0.7228 - val_loss: 0.8617 - val_accuracy: 0.6988\n",
            "Epoch 6/10\n",
            "1563/1563 [==============================] - 82s 52ms/step - loss: 0.7370 - accuracy: 0.7405 - val_loss: 0.8916 - val_accuracy: 0.6915\n",
            "Epoch 7/10\n",
            "1563/1563 [==============================] - 83s 53ms/step - loss: 0.6890 - accuracy: 0.7582 - val_loss: 0.8525 - val_accuracy: 0.7099\n",
            "Epoch 8/10\n",
            "1563/1563 [==============================] - 82s 52ms/step - loss: 0.6439 - accuracy: 0.7738 - val_loss: 0.8695 - val_accuracy: 0.7055\n",
            "Epoch 9/10\n",
            "1563/1563 [==============================] - 80s 51ms/step - loss: 0.6046 - accuracy: 0.7869 - val_loss: 0.9152 - val_accuracy: 0.6945\n",
            "Epoch 10/10\n",
            "1563/1563 [==============================] - 83s 53ms/step - loss: 0.5660 - accuracy: 0.8008 - val_loss: 0.8958 - val_accuracy: 0.7067\n"
          ]
        }
      ]
    },
    {
      "cell_type": "code",
      "source": [
        "model.save('fruit.h5')"
      ],
      "metadata": {
        "id": "jEQM5fQUJWdv"
      },
      "execution_count": 12,
      "outputs": []
    },
    {
      "cell_type": "code",
      "source": [
        "from keras.preprocessing import image\n",
        "img=tf.keras.utils.load_img('/content/128_100.jpg',target_size=(70,70))\n",
        "img"
      ],
      "metadata": {
        "colab": {
          "base_uri": "https://localhost:8080/",
          "height": 87
        },
        "id": "4zR_P_tLJayr",
        "outputId": "3a1a6ddb-75cc-42fb-db77-8a61f65976b2"
      },
      "execution_count": 23,
      "outputs": [
        {
          "output_type": "execute_result",
          "data": {
            "text/plain": [
              "<PIL.Image.Image image mode=RGB size=70x70 at 0x7FF96F57AFD0>"
            ],
            "image/png": "[encoded data removed]"
          },
          "metadata": {},
          "execution_count": 23
        }
      ]
    },
    {
      "cell_type": "code",
      "source": [
        "x= tf.keras.utils.img_to_array(img)"
      ],
      "metadata": {
        "id": "t8iwzwtlJipK"
      },
      "execution_count": 25,
      "outputs": []
    },
    {
      "cell_type": "code",
      "source": [
        "x = np.expand_dims(x, axis=0)"
      ],
      "metadata": {
        "id": "xgjrbrlNJmBG"
      },
      "execution_count": 26,
      "outputs": []
    },
    {
      "cell_type": "code",
      "source": [
        "index=['APPLES', 'BANANA', 'ORANGE', 'PINEAPPLE', 'WATERMELON']\n",
        "result=str(index[0])\n",
        "result"
      ],
      "metadata": {
        "colab": {
          "base_uri": "https://localhost:8080/",
          "height": 35
        },
        "id": "_N-gTd4yJoAj",
        "outputId": "3ec7b18d-f3b5-4cf6-8bec-85f5439c1cc2"
      },
      "execution_count": 27,
      "outputs": [
        {
          "output_type": "execute_result",
          "data": {
            "text/plain": [
              "'APPLES'"
            ],
            "application/vnd.google.colaboratory.intrinsic+json": {
              "type": "string"
            }
          },
          "metadata": {},
          "execution_count": 27
        }
      ]
    }
  ]
}